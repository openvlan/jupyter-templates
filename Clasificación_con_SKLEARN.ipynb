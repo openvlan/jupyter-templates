{
  "nbformat": 4,
  "nbformat_minor": 0,
  "metadata": {
    "colab": {
      "provenance": []
    },
    "kernelspec": {
      "name": "python3",
      "display_name": "Python 3"
    },
    "language_info": {
      "name": "python"
    }
  },
  "cells": [
    {
      "cell_type": "code",
      "execution_count": 10,
      "metadata": {
        "colab": {
          "base_uri": "https://localhost:8080/"
        },
        "id": "Z8BW9ULC_dnB",
        "outputId": "e2ee3759-6ead-43d7-96dd-595ef393c5b3"
      },
      "outputs": [
        {
          "output_type": "stream",
          "name": "stdout",
          "text": [
            "Looking in indexes: https://pypi.org/simple, https://us-python.pkg.dev/colab-wheels/public/simple/\n",
            "Requirement already satisfied: scikit-learn in /usr/local/lib/python3.7/dist-packages (1.0.2)\n",
            "Requirement already satisfied: joblib>=0.11 in /usr/local/lib/python3.7/dist-packages (from scikit-learn) (1.2.0)\n",
            "Requirement already satisfied: numpy>=1.14.6 in /usr/local/lib/python3.7/dist-packages (from scikit-learn) (1.21.6)\n",
            "Requirement already satisfied: threadpoolctl>=2.0.0 in /usr/local/lib/python3.7/dist-packages (from scikit-learn) (3.1.0)\n",
            "Requirement already satisfied: scipy>=1.1.0 in /usr/local/lib/python3.7/dist-packages (from scikit-learn) (1.7.3)\n"
          ]
        }
      ],
      "source": [
        "!pip install scikit-learn\n",
        "import sklearn"
      ]
    },
    {
      "cell_type": "markdown",
      "source": [
        "## Contexto\n",
        "Scikit learn viene con algunos conjuntos de datos estándar. Uno de ellos es el famoso conjunto de datos Iris, que fue presentado por primera vez por el estadístico Fisher.\n",
        "\n",
        "Este conjunto de datos se usa para abordar un problema de clasificación simple en el que tenemos que predecir la especie (Setosa, Versicolor o Virginica) de una flor de iris, dado un conjunto de medidas (largo del sépalo, ancho del sépalo, largo del pétalo y ancho del pétalo) en centímetros.\n",
        "\n",
        "El conjunto de datos de Iris tiene 150 instancias de flores de Iris para cada una de las cuales tenemos las cuatro medidas anteriores (características) y el código de especie (respuesta).\n",
        "La respuesta tiene la forma de un código de especie (0,1 y 2 para Setosa, Versicolor y Virginica respectivamente). Esto nos facilita su uso en scikit learn, ya que de acuerdo con los requisitos anteriores, tanto los datos de características como los de respuesta deben ser numéricos.\n",
        "\n",
        "## Requisitos de Scikit\n",
        "La biblioteca de aprendizaje de scikit tiene los siguientes requisitos para los datos antes de que se puedan usar para entrenar un modelo:\n",
        "\n",
        "Las características y la respuesta deben ser objetos separados.\n",
        "Las características y la respuesta deben ser numéricas.\n",
        "Las funciones y la respuesta deben ser matrices NumPy de tamaños compatibles (en términos de filas y columnas)"
      ],
      "metadata": {
        "id": "4tE2xe2fI4ki"
      }
    },
    {
      "cell_type": "markdown",
      "source": [
        "## Obtener el set de datos"
      ],
      "metadata": {
        "id": "imeG5HuEJLZ7"
      }
    },
    {
      "cell_type": "code",
      "source": [
        "from sklearn import datasets\n",
        "iris= datasets.load_iris()"
      ],
      "metadata": {
        "id": "5bYqPGoL_sE3"
      },
      "execution_count": 11,
      "outputs": []
    },
    {
      "cell_type": "markdown",
      "source": [
        "## Dividir datos en X e Y"
      ],
      "metadata": {
        "id": "FdpJDUhcJUQE"
      }
    },
    {
      "cell_type": "code",
      "source": [
        "# Guardar los features en X\n",
        "X=iris.data\n",
        "# Guardar los target en Y\n",
        "y=iris.target"
      ],
      "metadata": {
        "id": "pRqIS29l_vH3"
      },
      "execution_count": 12,
      "outputs": []
    },
    {
      "cell_type": "markdown",
      "source": [
        "## Exploración de los datos"
      ],
      "metadata": {
        "id": "lh6rW8WtJssy"
      }
    },
    {
      "cell_type": "code",
      "source": [
        "# Imprimimos los tipos de X e Y y validamos que cumplan con los requerimientos\n",
        "print(\" type of X:\",type(X),\"\\n\",\"type of y:\",type(y))\n",
        "# Imprimimos que X e Y cumplan con las dimensiones\n",
        "print(\" shape of X:\",X.shape,\"\\n\",\"shape of y:\",y.shape)"
      ],
      "metadata": {
        "colab": {
          "base_uri": "https://localhost:8080/"
        },
        "id": "cv3AiAJR_0AR",
        "outputId": "5cac06fe-872c-4671-cabf-c3df7bde94ad"
      },
      "execution_count": 13,
      "outputs": [
        {
          "output_type": "stream",
          "name": "stdout",
          "text": [
            " type of X: <class 'numpy.ndarray'> \n",
            " type of y: <class 'numpy.ndarray'>\n",
            " shape of X: (150, 4) \n",
            " shape of y: (150,)\n"
          ]
        }
      ]
    },
    {
      "cell_type": "markdown",
      "source": [
        "Los X e y son del tipo numpy ndarray, donde X tiene 150 instancias con cuatro características e y es una matriz unidimensional con 150 valores.\n",
        "\n",
        "¡Excelente! vemos que se cumplen los tres requisitos para usar X e y en scikit learn como matriz de características y vector de respuesta."
      ],
      "metadata": {
        "id": "-V8S49hNJ3k1"
      }
    },
    {
      "cell_type": "markdown",
      "source": [
        "## Dividir los datos en train y test"
      ],
      "metadata": {
        "id": "SBhWE_enKXFc"
      }
    },
    {
      "cell_type": "code",
      "source": [
        "# Importamos la libreria que se usa para dividir el set de datos\n",
        "from sklearn.model_selection import train_test_split\n",
        "# Como inicialmente dividimos en X e Y debemos hacer lo mismo con X e Y para train y test\n",
        "X_train, X_test, y_train, y_test = train_test_split(X, y,test_size=0.25, random_state=123, stratify=y)"
      ],
      "metadata": {
        "id": "iHP2FAiBHv3y"
      },
      "execution_count": 14,
      "outputs": []
    },
    {
      "cell_type": "markdown",
      "source": [
        "Hemos establecido el valor del parámetro test_size en esta función en 0,25. Esto significa que mantenemos el 25 % de los datos en el conjunto de prueba y usaremos el 75 % restante como el conjunto de entrenamiento en el que se entrenará el modelo. También hemos establecido un \"estado aleatorio\" arbitrario (o semilla) para que podamos reproducir nuestros resultados más adelante. Finalmente, hemos estratificado la muestra por la variable objetivo. Esto garantiza que nuestro conjunto de entrenamiento se parezca al conjunto de prueba, lo que hace que las métricas de evaluación sean más confiables.\n",
        "\n"
      ],
      "metadata": {
        "id": "pNDOOeQTLGZa"
      }
    },
    {
      "cell_type": "markdown",
      "source": [
        "## Construcción del modelo de clasificación\n",
        "\n",
        "El ciclo de vida completo de la creación de un modelo de aprendizaje en scikit learn se puede dividir en términos generales en cinco pasos. Ahora repasaremos cada paso y usaremos el ejemplo del algoritmo de clasificación del vecino más cercano k en los datos del iris para la ilustración."
      ],
      "metadata": {
        "id": "7wxB2ungLsL1"
      }
    },
    {
      "cell_type": "markdown",
      "source": [
        "### Paso 1\n",
        "\n",
        "Hay familias (o clases) de algoritmos que comparten algunos aspectos en la metodología. Por ejemplo, tanto los algoritmos de regresión lineal como los de regresión logística pertenecen a una familia denominada modelos lineales en scikit learn.\n",
        "\n",
        "Para el alcance de este blog, solo nos centraremos en entrenar un clasificador kNN y ajustar sus parámetros."
      ],
      "metadata": {
        "id": "VBnZoamEL61E"
      }
    },
    {
      "cell_type": "code",
      "source": [
        "# Importamos clasificador kNN \n",
        "from sklearn.neighbors import KNeighborsClassifier"
      ],
      "metadata": {
        "id": "r98StVD8HzX_"
      },
      "execution_count": 15,
      "outputs": []
    },
    {
      "cell_type": "markdown",
      "source": [
        "### Paso 2\n",
        "\n",
        "Crear una instancia del algoritmo para crear un \"estimador\" o \"modelo\" con hiperparámetros específicos"
      ],
      "metadata": {
        "id": "BRiS-aJ-MJgU"
      }
    },
    {
      "cell_type": "markdown",
      "source": [
        "Tratamos con dos tipos de parámetros como parte de un modelo de aprendizaje: hiperparámetros y parámetros del modelo. Los hiperparámetros expresan información estructural sobre el modelo y, por lo general, los elige el desarrollador del modelo antes de que los datos se ajusten al modelo. Por otro lado, los parámetros de los modelos se pueden aprender y optimizar directamente a partir de los datos (para, por ejemplo, coeficientes de regresión)."
      ],
      "metadata": {
        "id": "NsRupbh1MpAr"
      }
    },
    {
      "cell_type": "code",
      "source": [
        "# Creamos una instancia y le damos un K = 6\n",
        "knn6 = KNeighborsClassifier(n_neighbors=6)"
      ],
      "metadata": {
        "id": "A12pA7PqH2ar"
      },
      "execution_count": 29,
      "outputs": []
    },
    {
      "cell_type": "code",
      "source": [
        "KNeighborsClassifier(algorithm='auto', leaf_size=30, metric='minkowski',\n",
        " metric_params=None, n_jobs=1, n_neighbors=6, p=2,\n",
        " weights='uniform')"
      ],
      "metadata": {
        "colab": {
          "base_uri": "https://localhost:8080/"
        },
        "id": "xq9bMtTOH5jf",
        "outputId": "6166e89a-a979-410d-f4f4-b6e9b84bccd9"
      },
      "execution_count": 31,
      "outputs": [
        {
          "output_type": "execute_result",
          "data": {
            "text/plain": [
              "KNeighborsClassifier(n_jobs=1, n_neighbors=6)"
            ]
          },
          "metadata": {},
          "execution_count": 31
        }
      ]
    },
    {
      "cell_type": "markdown",
      "source": [
        "### Paso 3\n",
        "\n",
        "Aquí hacemos el entrenamiento del modelo"
      ],
      "metadata": {
        "id": "f1bYe-uUNm2W"
      }
    },
    {
      "cell_type": "code",
      "source": [
        "knn6.fit(X_train, y_train)"
      ],
      "metadata": {
        "colab": {
          "base_uri": "https://localhost:8080/"
        },
        "id": "JAYsG0ZPH9Tz",
        "outputId": "de8be4b6-d378-4574-e921-3a05d5f17c30"
      },
      "execution_count": 33,
      "outputs": [
        {
          "output_type": "execute_result",
          "data": {
            "text/plain": [
              "KNeighborsClassifier(n_neighbors=6)"
            ]
          },
          "metadata": {},
          "execution_count": 33
        }
      ]
    },
    {
      "cell_type": "markdown",
      "source": [
        "### Paso 4 \n",
        "\n",
        "Predicción del modelo"
      ],
      "metadata": {
        "id": "6WmCzXokNzK3"
      }
    },
    {
      "cell_type": "code",
      "source": [
        "print(iris.target_names)"
      ],
      "metadata": {
        "colab": {
          "base_uri": "https://localhost:8080/"
        },
        "id": "jKphQFsCQixf",
        "outputId": "38783d44-aa42-4af0-c395-54173f87afad"
      },
      "execution_count": 40,
      "outputs": [
        {
          "output_type": "stream",
          "name": "stdout",
          "text": [
            "['setosa' 'versicolor' 'virginica']\n"
          ]
        }
      ]
    },
    {
      "cell_type": "markdown",
      "source": [
        "####Clases\n",
        "clase 0: Iris-Setosa\n",
        "clase 1: Iris-Versicolor\n",
        "clase 2: Iris-Virginica"
      ],
      "metadata": {
        "id": "tP1t87hMQ3VG"
      }
    },
    {
      "cell_type": "markdown",
      "source": [
        "Algunos comentarios:\n",
        "\n",
        "Como dijimos anteriormente los columnas del dataset son\n",
        "\n",
        "\n",
        "\n",
        "1.   Longitud del sépalo\n",
        "2.   Ancho del sépalo\n",
        "3.   Longitud del pétalo\n",
        "4.   Ancho del pétalo\n",
        "\n",
        "Por lo que antes de probar el set de datos original vamos a validar que nuestro modelo devuelva algo, por lo que vamos a crear un nuevo objeto que contega info para validar una respuesta. Ejemplo: [3,2,3.3,2.9]"
      ],
      "metadata": {
        "id": "GbE4DdZvRMtB"
      }
    },
    {
      "cell_type": "code",
      "source": [
        "# Generamos un dato de pruebas\n",
        "X_new = [[3, 2, 3.3, 2.9]]\n",
        "knn6.predict(X_new)\n",
        "print(knn6.predict(X_new))\n",
        "print(iris.target_names[knn6.predict(X_new)])"
      ],
      "metadata": {
        "colab": {
          "base_uri": "https://localhost:8080/"
        },
        "id": "EIO7L-gXIA6B",
        "outputId": "1b5e4283-fdf2-4b93-8003-8b5457978131"
      },
      "execution_count": 39,
      "outputs": [
        {
          "output_type": "stream",
          "name": "stdout",
          "text": [
            "[1]\n",
            "['versicolor']\n"
          ]
        }
      ]
    },
    {
      "cell_type": "markdown",
      "source": [
        "Ahora hacemos las predicciones pero con el set de test"
      ],
      "metadata": {
        "id": "gl91z4BpRS6e"
      }
    },
    {
      "cell_type": "code",
      "source": [
        "y_pred=knn6.predict(X_test)\n",
        "print(y_pred)\n",
        "print(iris.target_names[y_pred])\n",
        "# Recordamos las clases\n",
        "# clase 0: Iris-Setosa \n",
        "# clase 1: Iris-Versicolor \n",
        "# clase 2: Iris-Virginica"
      ],
      "metadata": {
        "colab": {
          "base_uri": "https://localhost:8080/"
        },
        "id": "9iLISFzkID4y",
        "outputId": "9dd8fdec-20e0-4649-d314-5fbde1c1d05e"
      },
      "execution_count": 41,
      "outputs": [
        {
          "output_type": "stream",
          "name": "stdout",
          "text": [
            "[2 0 1 2 0 0 1 2 1 0 1 0 2 2 1 2 0 0 0 0 0 0 1 2 0 2 2 1 2 1 1 2 1 1 2 1 2\n",
            " 1]\n",
            "['virginica' 'setosa' 'versicolor' 'virginica' 'setosa' 'setosa'\n",
            " 'versicolor' 'virginica' 'versicolor' 'setosa' 'versicolor' 'setosa'\n",
            " 'virginica' 'virginica' 'versicolor' 'virginica' 'setosa' 'setosa'\n",
            " 'setosa' 'setosa' 'setosa' 'setosa' 'versicolor' 'virginica' 'setosa'\n",
            " 'virginica' 'virginica' 'versicolor' 'virginica' 'versicolor'\n",
            " 'versicolor' 'virginica' 'versicolor' 'versicolor' 'virginica'\n",
            " 'versicolor' 'virginica' 'versicolor']\n"
          ]
        }
      ]
    },
    {
      "cell_type": "markdown",
      "source": [
        "### Paso 5\n",
        "\n",
        "Evaluación de los resultados\n",
        "\n",
        "En los primeros cuatro pasos, desarrollamos un modelo e hicimos predicciones para los datos de prueba. Ahora pasamos a la etapa de evaluación del modelo, donde buscamos lograr lo siguiente con scikit learn:\n",
        "\n",
        "* Cuantificar el rendimiento de nuestro modelo.\n",
        "* Estimar el rendimiento de nuestro modelo con datos fuera de la muestra\n",
        "* Seleccione el mejor conjunto de parámetros de ajuste para el modelo"
      ],
      "metadata": {
        "id": "B7-2OoHvRuX9"
      }
    },
    {
      "cell_type": "markdown",
      "source": [
        "Para medir la precisión de nuestro modelo y poder compararlo con otros modelos, necesitamos métricas que puedan comparar los valores predichos (y_pred) con los valores reales (y_test). Scikit learn nos facilita esta tarea en forma de matriz de confusión.\n",
        "\n",
        "A menudo se utiliza una matriz de confusión para resumir los resultados de predicción de un modelo de clasificación. El número de predicciones correctas e incorrectas se presenta como valores de conteo desglosados ​​por cada etiqueta. Ahora construyamos una matriz de confusión para las predicciones hechas por nuestro clasificador:"
      ],
      "metadata": {
        "id": "pP1cpMhXSNGy"
      }
    },
    {
      "cell_type": "code",
      "source": [
        "# Importamos y mostramos la matriz de confusión\n",
        "from sklearn.metrics import confusion_matrix\n",
        "print(confusion_matrix(y_test,y_pred))"
      ],
      "metadata": {
        "colab": {
          "base_uri": "https://localhost:8080/"
        },
        "id": "tc4iV_OCIIj-",
        "outputId": "064ba597-9f90-4967-aa9e-e9fb182a0f77"
      },
      "execution_count": 21,
      "outputs": [
        {
          "output_type": "stream",
          "name": "stdout",
          "text": [
            "[[12  0  0]\n",
            " [ 0 12  1]\n",
            " [ 0  1 12]]\n"
          ]
        }
      ]
    },
    {
      "cell_type": "markdown",
      "source": [
        "En la matriz anterior, podemos ver que el clasificador knn6 tiene ciertos detallesentre las dos últimas etiquetas, ya que hay valores distintos de cero presentes en las posiciones no diagonales. Sin embargo, la confusión está solo en dos de las 38 observaciones en los datos de prueba. Esto significa que 36 de las 38 predicciones han sido precisas. Esto se puede cuantificar en términos porcentuales a través de una métrica llamada puntuación de precisión , que también forma parte del submódulo de métricas en scikit learn:"
      ],
      "metadata": {
        "id": "ewggpIgZSjJb"
      }
    },
    {
      "cell_type": "code",
      "source": [
        "# Importamos y validamosel accuracy\n",
        "from sklearn.metrics import accuracy_score\n",
        "print(\"accuracy score=\",accuracy_score(y_test,y_pred),\"\\n\")"
      ],
      "metadata": {
        "colab": {
          "base_uri": "https://localhost:8080/"
        },
        "id": "5aLn_FRGIMoN",
        "outputId": "a8d1ff0b-a598-447e-a172-17cc046abcda"
      },
      "execution_count": 22,
      "outputs": [
        {
          "output_type": "stream",
          "name": "stdout",
          "text": [
            "accuracy score= 0.9473684210526315 \n",
            "\n"
          ]
        }
      ]
    },
    {
      "cell_type": "markdown",
      "source": [
        "## Validación cruzada de K-fold en scikit learn\n",
        "\n",
        "La validación cruzada K (esta K es diferente de la k del clasificador kNN) es una técnica estadística que consiste en dividir los datos en subconjuntos 'K' de igual tamaño. El modelo se entrena con los datos de los subconjuntos (K-1) y el subconjunto restante se utiliza como conjunto de datos de prueba para validar el modelo. Realizamos varias rondas del procedimiento anterior hasta que todos los subconjuntos K se utilizan para la validación una vez. Luego, combinamos los resultados de validación de estas rondas múltiples para obtener una estimación del rendimiento del modelo.\n",
        "![image.png](data:image/png;base64,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)"
      ],
      "metadata": {
        "id": "4_FIMinzTcyA"
      }
    },
    {
      "cell_type": "markdown",
      "source": [
        "El procedimiento anterior reduce la variabilidad y, por lo tanto, la validación cruzada de K-fold nos brinda una estimación más precisa del rendimiento de un modelo en datos fuera de la muestra. Ahora implementemos una validación cruzada de 10 veces para nuestro modelo en scikit learn:"
      ],
      "metadata": {
        "id": "8P1JaWFDTsLq"
      }
    },
    {
      "cell_type": "code",
      "source": [
        "# Importamos la libreria para usar la validación cruzada\n",
        "from sklearn.model_selection import cross_val_score\n",
        "Accuracy_scores = cross_val_score(knn6, X, y, cv=10, scoring='accuracy')\n",
        "# Imprimimos el scort para cada una de las 10 veces\n",
        "print(Accuracy_scores)"
      ],
      "metadata": {
        "colab": {
          "base_uri": "https://localhost:8080/"
        },
        "id": "2-y0hSstIQEm",
        "outputId": "554b30bc-af1d-4ca4-d27e-642870a30d9c"
      },
      "execution_count": 23,
      "outputs": [
        {
          "output_type": "stream",
          "name": "stdout",
          "text": [
            "[1.         0.93333333 1.         1.         0.86666667 0.93333333\n",
            " 0.93333333 1.         1.         1.        ]\n"
          ]
        }
      ]
    },
    {
      "cell_type": "code",
      "source": [
        "# Tomamos un promedio de los 10 resultados\n",
        "print(Accuracy_scores.mean())"
      ],
      "metadata": {
        "colab": {
          "base_uri": "https://localhost:8080/"
        },
        "id": "U-fY5JenIS39",
        "outputId": "250ace8e-f605-4ffb-9130-9791b7b7b097"
      },
      "execution_count": 24,
      "outputs": [
        {
          "output_type": "stream",
          "name": "stdout",
          "text": [
            "0.9666666666666668\n"
          ]
        }
      ]
    },
    {
      "cell_type": "markdown",
      "source": [
        "## Ajuste de hiperparámetros usando GridsearchCV en scikit learn\n",
        "\n",
        "GridSearchCV utiliza el concepto de validación cruzada (discutido anteriormente) para encontrar la precisión de todas las combinaciones posibles de valores de hiperparámetros y encuentra y ajusta automáticamente la mejor.\n",
        "\n",
        "Consideremos el ejemplo de un algoritmo kNN que hemos considerado hasta ahora. Supongamos que queremos ajustar dos de los hiperparámetros para un modelo kNN, a saber:\n",
        "\n",
        "n_vecinos (también conocido como k) y\n",
        "tamaño_hoja"
      ],
      "metadata": {
        "id": "lwCjyyL6Ups4"
      }
    },
    {
      "cell_type": "code",
      "source": [
        "from sklearn.model_selection import GridSearchCV\n",
        "# Definimos unos posibles balores de hiperparámetros\n",
        "hyperparameter_values = {'n_neighbors':[1,3,5,7,9,11], 'leaf_size':[20,25,30,35,40]}"
      ],
      "metadata": {
        "id": "PPnWgHjtIWeW"
      },
      "execution_count": 25,
      "outputs": []
    },
    {
      "cell_type": "markdown",
      "source": [
        "Por tanto, en total hay treinta (6X5) combinaciones posibles para los valores de los hiperparámetros y, por tanto, treinta posibilidades para el estimador kNN.\n",
        "Implementemos el algoritmo GridSearchCV para encontrar el mejor y luego ajustarle los datos:"
      ],
      "metadata": {
        "id": "C1DJHQUfU-Nu"
      }
    },
    {
      "cell_type": "code",
      "source": [
        "# Instanciamos el algoritmo de GridSearch\n",
        "gs=GridSearchCV(KNeighborsClassifier(),hyperparameter_values,cv=10)\n",
        "# Lo entrenamos\n",
        "gs.results=gs.fit(X,y)"
      ],
      "metadata": {
        "id": "yK1RUy4pIZ8r"
      },
      "execution_count": 26,
      "outputs": []
    },
    {
      "cell_type": "markdown",
      "source": [
        "Lo que hicimos aquí es similar a realizar una validación cruzada de 10 veces en cada uno de los treinta estimadores posibles y guardar el mejor resultado en el objeto llamado 'gs'. Ahora podemos acceder al mejor estimador, los valores de los parámetros y la puntuación de precisión de la siguiente manera:"
      ],
      "metadata": {
        "id": "zy5xwfBWVGbM"
      }
    },
    {
      "cell_type": "code",
      "source": [
        "print('Best estimator/model: ',gs.results.best_estimator_)\n",
        "print('Best parameter combination: ',gs.results.best_params_)\n",
        "print('Best accuracy score: ',gs.results.best_score_)"
      ],
      "metadata": {
        "colab": {
          "base_uri": "https://localhost:8080/"
        },
        "id": "Y3Cy5mdMIc_b",
        "outputId": "c59b7241-a4b2-49f3-971a-74c81206351f"
      },
      "execution_count": 27,
      "outputs": [
        {
          "output_type": "stream",
          "name": "stdout",
          "text": [
            "Best estimator/model:  KNeighborsClassifier(leaf_size=20, n_neighbors=9)\n",
            "Best parameter combination:  {'leaf_size': 20, 'n_neighbors': 9}\n",
            "Best accuracy score:  0.9733333333333334\n"
          ]
        }
      ]
    },
    {
      "cell_type": "code",
      "source": [
        "# !pip install joblib (Si no esta instalado)\n",
        "import joblib\n",
        "# Guardamos el modelo con formato pkl\n",
        "joblib.dump(gs, 'kNN_optimized.pkl')\n",
        "# Si queremos abrir un modelo entrenado\n",
        "joblib.load('kNN_optimized.pkl')"
      ],
      "metadata": {
        "colab": {
          "base_uri": "https://localhost:8080/"
        },
        "id": "A1v0AiKTImxv",
        "outputId": "14f548fa-5007-4f11-ce61-3cdc2495df07"
      },
      "execution_count": 42,
      "outputs": [
        {
          "output_type": "execute_result",
          "data": {
            "text/plain": [
              "GridSearchCV(cv=10, estimator=KNeighborsClassifier(),\n",
              "             param_grid={'leaf_size': [20, 25, 30, 35, 40],\n",
              "                         'n_neighbors': [1, 3, 5, 7, 9, 11]})"
            ]
          },
          "metadata": {},
          "execution_count": 42
        }
      ]
    }
  ]
}